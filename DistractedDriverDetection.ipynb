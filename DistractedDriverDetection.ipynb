{
 "cells": [
  {
   "cell_type": "code",
   "execution_count": 1,
   "metadata": {},
   "outputs": [
    {
     "data": {
      "text/plain": [
       "['/home/srini/Downloads/DistractedDriver/train/c7/img_70481.jpg',\n",
       " '/home/srini/Downloads/DistractedDriver/train/c7/img_71676.jpg',\n",
       " '/home/srini/Downloads/DistractedDriver/train/c7/img_94903.jpg',\n",
       " '/home/srini/Downloads/DistractedDriver/train/c7/img_72650.jpg',\n",
       " '/home/srini/Downloads/DistractedDriver/train/c7/img_73378.jpg']"
      ]
     },
     "execution_count": 1,
     "metadata": {},
     "output_type": "execute_result"
    }
   ],
   "source": [
    "import time\n",
    "import os\n",
    "import glob\n",
    "import numpy as np\n",
    "from PIL import Image\n",
    "import h5py\n",
    "from sklearn.model_selection import train_test_split\n",
    "import matplotlib.pyplot as plt\n",
    "\n",
    "# Get each image filepath into a list\n",
    "img_list = glob.glob(\"/home/srini/Downloads/DistractedDriver/train/**/*.jpg\")\n",
    "img_list[:5]"
   ]
  },
  {
   "cell_type": "code",
   "execution_count": 2,
   "metadata": {
    "scrolled": false
   },
   "outputs": [
    {
     "name": "stdout",
     "output_type": "stream",
     "text": [
      "Load folder c0\n",
      "Load folder c1\n",
      "Load folder c2\n",
      "Load folder c3\n",
      "Load folder c4\n",
      "Load folder c5\n",
      "Load folder c6\n",
      "Load folder c7\n",
      "Load folder c8\n",
      "Load folder c9\n",
      "\n",
      "Loading and cleaning images took 176.488431930542 seconds \n",
      "\n",
      "Number of train images: 22424\n"
     ]
    }
   ],
   "source": [
    "# Load in ALL train images and label them\n",
    "actual_images = []\n",
    "X = []\n",
    "y = []\n",
    "\n",
    "start = time.time()\n",
    "\n",
    "for j in range(10):\n",
    "    print('Load folder c{}'.format(j))\n",
    "    path = os.path.join('.', 'train', 'c' + str(j), '*.jpg')\n",
    "    img_list = glob.glob(path)\n",
    "    for file in img_list:\n",
    "        # Open each image and convert to black and white\n",
    "        img = Image.open(file).convert('L')\n",
    "        # Get image height and width to divide each by 2 (save memory)\n",
    "        height, width = img.size\n",
    "        # thumbnail is an in-place operation\n",
    "        img.thumbnail((height/4, width/4), Image.ANTIALIAS)\n",
    "        # Make each image into a numpy array divided by the max to get 0 to 1 normalization\n",
    "        img_data = np.array(img.getdata()) / 255\n",
    "        # Grow lists of actual images, image data, and labels\n",
    "        actual_images.append(img)\n",
    "        X.append(img_data)\n",
    "        y.append(j)\n",
    "# Combine list of images into numpy array\n",
    "X = np.array(X, dtype = 'float32')    \n",
    "\n",
    "end = time.time()\n",
    "\n",
    "print()\n",
    "print(\"Loading and cleaning images took %s\" % str(end - start), \"seconds\", '\\n')\n",
    "print(\"Number of train images: %s\" % len(X))"
   ]
  },
  {
   "cell_type": "code",
   "execution_count": 3,
   "metadata": {},
   "outputs": [
    {
     "name": "stdout",
     "output_type": "stream",
     "text": [
      "[0, 2, 4, 6]\n"
     ]
    },
    {
     "data": {
      "image/png": "[encoded data removed]",
      "text/plain": [
       "<PIL.Image.Image image mode=L size=160x120 at 0x7FD2600BBB00>"
      ]
     },
     "execution_count": 3,
     "metadata": {},
     "output_type": "execute_result"
    }
   ],
   "source": [
    "# Show an example of an image and some labels\n",
    "print(y[0:20000:5000])\n",
    "actual_images[0]"
   ]
  },
  {
   "cell_type": "code",
   "execution_count": 4,
   "metadata": {},
   "outputs": [],
   "source": [
    "# Make sure to save both the cleaned inputs and the cleaned target\n",
    "X_h5 = h5py.File('X.h5', 'w')\n",
    "X_h5.create_dataset('X_h5', data=X)\n",
    "X_h5.close()\n",
    "\n",
    "y_h5 = h5py.File('y.h5', 'w')\n",
    "y_h5.create_dataset('y_h5', data=y)\n",
    "y_h5.close()"
   ]
  },
  {
   "cell_type": "markdown",
   "metadata": {},
   "source": [
    "Now with our images preprocessed and put into numeric format, we can move forward with dividing up the samples into test and train data We then also need to make sure the data shape is prepared in Tensorflow format and that the labels are dummy coded so that Keras can interpret the labels correctly."
   ]
  },
  {
   "cell_type": "code",
   "execution_count": 5,
   "metadata": {
    "scrolled": true
   },
   "outputs": [
    {
     "name": "stderr",
     "output_type": "stream",
     "text": [
      "Using TensorFlow backend.\n",
      "/home/srini/anaconda3/lib/python3.7/site-packages/sklearn/model_selection/_split.py:2179: FutureWarning: From version 0.21, test_size will always complement train_size unless both are specified.\n",
      "  FutureWarning)\n"
     ]
    },
    {
     "name": "stdout",
     "output_type": "stream",
     "text": [
      " 'X' matrix/input \n",
      "Shape:  (17939, 160, 120, 1)\n",
      "[[0.12156863]\n",
      " [0.12156863]\n",
      " [0.12156863]\n",
      " [0.12156863]\n",
      " [0.13725491]] \n",
      "\n",
      " 'y' label/output \n",
      "Shape:  (17939, 10)\n",
      "[[0 0 0 ... 0 0 0]\n",
      " [0 0 0 ... 0 0 0]\n",
      " [0 0 1 ... 0 0 0]\n",
      " ...\n",
      " [1 0 0 ... 0 0 0]\n",
      " [0 0 0 ... 0 0 1]\n",
      " [0 1 0 ... 0 0 0]]\n"
     ]
    }
   ],
   "source": [
    "from keras.models import Sequential, load_model\n",
    "from keras.optimizers import Adam\n",
    "from keras.callbacks import EarlyStopping, Callback\n",
    "from keras.layers import Conv2D, Dense, Dropout, BatchNormalization, MaxPooling2D, Activation, Flatten\n",
    "from keras.utils import to_categorical\n",
    "from keras import backend as K\n",
    "from sklearn.metrics import confusion_matrix, accuracy_score\n",
    "import pickle\n",
    "\n",
    "# This make sure the input shape is: (number of samples, width, height, channels)\n",
    "# K.set_image_dim_ordering('tf')\n",
    "K.tensorflow_backend.set_image_dim_ordering('tf')\n",
    "\n",
    "# Load in preprocessed data\n",
    "with h5py.File('X.h5', 'r') as hf:\n",
    "    X = hf['X_h5'][:]\n",
    "with h5py.File('y.h5', 'r') as hf:\n",
    "    y = hf['y_h5'][:]\n",
    "\n",
    "# Get train and test sets\n",
    "X_train, X_test, y_train, y_test = train_test_split(X, y, train_size = 0.8, shuffle = True)\n",
    "\n",
    "# Prepare images to correct shape for Keras model\n",
    "X_train = X_train.reshape(X_train.shape[0], 160, 120, 1)\n",
    "X_test= X_test.reshape(X_test.shape[0], 160, 120, 1)\n",
    "y_train = to_categorical(y_train).astype('int32')\n",
    "y_test = to_categorical(y_test).astype('int32')\n",
    "\n",
    "# Check data to see if everything is ok\n",
    "print(\" 'X' matrix/input \")\n",
    "print(\"Shape: \", str(X_train.shape))\n",
    "print(X_train[0][0][:5], '\\n')\n",
    "print(\" 'y' label/output \")\n",
    "print(\"Shape: \", str(y_train.shape))\n",
    "print(y_train)"
   ]
  },
  {
   "cell_type": "code",
   "execution_count": 6,
   "metadata": {},
   "outputs": [],
   "source": [
    "class SGDRScheduler(Callback):\n",
    "    '''Cosine annealing learning rate scheduler with periodic restarts.\n",
    "    # Arguments\n",
    "        min_lr: The lower bound of the learning rate range for the experiment.\n",
    "        max_lr: The upper bound of the learning rate range for the experiment.\n",
    "        steps_per_epoch: Number of mini-batches in the dataset. Calculated as `np.ceil(epoch_size/batch_size)`. \n",
    "        lr_decay: Reduce the max_lr after the completion of each cycle.\n",
    "                  Ex. To reduce the max_lr by 20% after each cycle, set this value to 0.8.\n",
    "        cycle_length: Initial number of epochs in a cycle.\n",
    "        mult_factor: Scale epochs_to_restart after each full cycle completion.\n",
    "\n",
    "    # References\n",
    "        Blog post: jeremyjordan.me/nn-learning-rate\n",
    "        Original paper: http://arxiv.org/abs/1608.03983\n",
    "    '''\n",
    "    def __init__(self,\n",
    "                 min_lr,\n",
    "                 max_lr,\n",
    "                 steps_per_epoch,\n",
    "                 lr_decay=1,\n",
    "                 cycle_length=10,\n",
    "                 mult_factor=2):\n",
    "\n",
    "        self.min_lr = min_lr\n",
    "        self.max_lr = max_lr\n",
    "        self.lr_decay = lr_decay\n",
    "\n",
    "        self.batch_since_restart = 0\n",
    "        self.next_restart = cycle_length\n",
    "\n",
    "        self.steps_per_epoch = steps_per_epoch\n",
    "\n",
    "        self.cycle_length = cycle_length\n",
    "        self.mult_factor = mult_factor\n",
    "\n",
    "        self.history = {}\n",
    "\n",
    "    def clr(self):\n",
    "        '''Calculate the learning rate.'''\n",
    "        fraction_to_restart = self.batch_since_restart / (self.steps_per_epoch * self.cycle_length)\n",
    "        lr = self.min_lr + 0.5 * (self.max_lr - self.min_lr) * (1 + np.cos(fraction_to_restart * np.pi))\n",
    "        return lr\n",
    "\n",
    "    def on_train_begin(self, logs={}):\n",
    "        '''Initialize the learning rate to the minimum value at the start of training.'''\n",
    "        logs = logs or {}\n",
    "        K.set_value(self.model.optimizer.lr, self.max_lr)\n",
    "\n",
    "    def on_batch_end(self, batch, logs={}):\n",
    "        '''Record previous batch statistics and update the learning rate.'''\n",
    "        logs = logs or {}\n",
    "        self.history.setdefault('lr', []).append(K.get_value(self.model.optimizer.lr))\n",
    "        for k, v in logs.items():\n",
    "            self.history.setdefault(k, []).append(v)\n",
    "\n",
    "        self.batch_since_restart += 1\n",
    "        K.set_value(self.model.optimizer.lr, self.clr())\n",
    "\n",
    "    def on_epoch_end(self, epoch, logs={}):\n",
    "        '''Check for end of current cycle, apply restarts when necessary.'''\n",
    "        if epoch + 1 == self.next_restart:\n",
    "            self.batch_since_restart = 0\n",
    "            self.cycle_length = np.ceil(self.cycle_length * self.mult_factor)\n",
    "            self.next_restart += self.cycle_length\n",
    "            self.max_lr *= self.lr_decay\n",
    "            self.best_weights = self.model.get_weights()\n",
    "\n",
    "    def on_train_end(self, logs={}):\n",
    "        '''Set weights to the values from the end of the most recent cycle for best performance.'''\n",
    "        self.model.set_weights(self.best_weights)"
   ]
  },
  {
   "cell_type": "code",
   "execution_count": 7,
   "metadata": {},
   "outputs": [
    {
     "name": "stdout",
     "output_type": "stream",
     "text": [
      "WARNING:tensorflow:From /home/srini/anaconda3/lib/python3.7/site-packages/keras/backend/tensorflow_backend.py:66: The name tf.get_default_graph is deprecated. Please use tf.compat.v1.get_default_graph instead.\n",
      "\n",
      "WARNING:tensorflow:From /home/srini/anaconda3/lib/python3.7/site-packages/keras/backend/tensorflow_backend.py:541: The name tf.placeholder is deprecated. Please use tf.compat.v1.placeholder instead.\n",
      "\n",
      "WARNING:tensorflow:From /home/srini/anaconda3/lib/python3.7/site-packages/keras/backend/tensorflow_backend.py:4432: The name tf.random_uniform is deprecated. Please use tf.random.uniform instead.\n",
      "\n",
      "WARNING:tensorflow:From /home/srini/anaconda3/lib/python3.7/site-packages/keras/backend/tensorflow_backend.py:190: The name tf.get_default_session is deprecated. Please use tf.compat.v1.get_default_session instead.\n",
      "\n",
      "WARNING:tensorflow:From /home/srini/anaconda3/lib/python3.7/site-packages/keras/backend/tensorflow_backend.py:197: The name tf.ConfigProto is deprecated. Please use tf.compat.v1.ConfigProto instead.\n",
      "\n",
      "WARNING:tensorflow:From /home/srini/anaconda3/lib/python3.7/site-packages/keras/backend/tensorflow_backend.py:2041: The name tf.nn.fused_batch_norm is deprecated. Please use tf.compat.v1.nn.fused_batch_norm instead.\n",
      "\n",
      "WARNING:tensorflow:From /home/srini/anaconda3/lib/python3.7/site-packages/keras/backend/tensorflow_backend.py:3733: calling dropout (from tensorflow.python.ops.nn_ops) with keep_prob is deprecated and will be removed in a future version.\n",
      "Instructions for updating:\n",
      "Please use `rate` instead of `keep_prob`. Rate should be set to `rate = 1 - keep_prob`.\n",
      "WARNING:tensorflow:From /home/srini/anaconda3/lib/python3.7/site-packages/keras/backend/tensorflow_backend.py:4267: The name tf.nn.max_pool is deprecated. Please use tf.nn.max_pool2d instead.\n",
      "\n",
      "WARNING:tensorflow:From /home/srini/anaconda3/lib/python3.7/site-packages/keras/optimizers.py:793: The name tf.train.Optimizer is deprecated. Please use tf.compat.v1.train.Optimizer instead.\n",
      "\n",
      "WARNING:tensorflow:From /home/srini/anaconda3/lib/python3.7/site-packages/tensorflow/python/ops/math_grad.py:1250: add_dispatch_support.<locals>.wrapper (from tensorflow.python.ops.array_ops) is deprecated and will be removed in a future version.\n",
      "Instructions for updating:\n",
      "Use tf.where in 2.0, which has the same broadcast rule as np.where\n",
      "Train on 14351 samples, validate on 3588 samples\n",
      "Epoch 1/15\n",
      "14351/14351 [==============================] - 1547s 108ms/step - loss: 1.2630 - acc: 0.5602 - val_loss: 0.6385 - val_acc: 0.8250\n",
      "Epoch 2/15\n",
      "14351/14351 [==============================] - 1534s 107ms/step - loss: 0.2913 - acc: 0.9068 - val_loss: 0.1507 - val_acc: 0.9551\n",
      "Epoch 3/15\n",
      "14351/14351 [==============================] - 1528s 106ms/step - loss: 0.1231 - acc: 0.9624 - val_loss: 0.0848 - val_acc: 0.9769\n",
      "Epoch 4/15\n",
      "14351/14351 [==============================] - 1515s 106ms/step - loss: 0.0552 - acc: 0.9825 - val_loss: 0.0489 - val_acc: 0.9877\n",
      "Epoch 5/15\n",
      "14351/14351 [==============================] - 1499s 104ms/step - loss: 0.0289 - acc: 0.9919 - val_loss: 0.0389 - val_acc: 0.9900\n",
      "Epoch 6/15\n",
      "14351/14351 [==============================] - 1493s 104ms/step - loss: 0.1545 - acc: 0.9488 - val_loss: 0.1622 - val_acc: 0.9548\n",
      "Epoch 7/15\n",
      "14351/14351 [==============================] - 1492s 104ms/step - loss: 0.0741 - acc: 0.9769 - val_loss: 0.0765 - val_acc: 0.9813\n",
      "Epoch 8/15\n",
      "14351/14351 [==============================] - 1496s 104ms/step - loss: 0.0479 - acc: 0.9846 - val_loss: 0.0684 - val_acc: 0.9838\n",
      "Epoch 9/15\n",
      "14351/14351 [==============================] - 1496s 104ms/step - loss: 0.0357 - acc: 0.9884 - val_loss: 0.0524 - val_acc: 0.9897\n",
      "Epoch 10/15\n",
      "14351/14351 [==============================] - 1490s 104ms/step - loss: 0.0220 - acc: 0.9922 - val_loss: 0.0572 - val_acc: 0.9886\n",
      "Epoch 11/15\n",
      "14351/14351 [==============================] - 1496s 104ms/step - loss: 0.0184 - acc: 0.9939 - val_loss: 0.0649 - val_acc: 0.9844\n",
      "Epoch 12/15\n",
      "14351/14351 [==============================] - 1496s 104ms/step - loss: 0.0187 - acc: 0.9944 - val_loss: 0.0458 - val_acc: 0.9905\n",
      "Epoch 13/15\n",
      "14351/14351 [==============================] - 1491s 104ms/step - loss: 0.0140 - acc: 0.9957 - val_loss: 0.0548 - val_acc: 0.9894\n",
      "Epoch 14/15\n",
      "14351/14351 [==============================] - 1495s 104ms/step - loss: 0.0078 - acc: 0.9976 - val_loss: 0.0383 - val_acc: 0.9919\n",
      "Epoch 15/15\n",
      "14351/14351 [==============================] - 1500s 105ms/step - loss: 0.0046 - acc: 0.9984 - val_loss: 0.0367 - val_acc: 0.9922\n"
     ]
    },
    {
     "data": {
      "image/png": "[encoded data removed]",
      "text/plain": [
       "<Figure size 432x288 with 1 Axes>"
      ]
     },
     "metadata": {
      "needs_background": "light"
     },
     "output_type": "display_data"
    },
    {
     "data": {
      "image/png": "[encoded data removed]",
      "text/plain": [
       "<Figure size 432x288 with 1 Axes>"
      ]
     },
     "metadata": {
      "needs_background": "light"
     },
     "output_type": "display_data"
    }
   ],
   "source": [
    "batch_size = 32\n",
    "\n",
    "# Use next line if not doing cosine annealing\n",
    "# early_stop = EarlyStopping(monitor = 'val_loss', patience = 3)\n",
    "\n",
    "schedule = SGDRScheduler(min_lr=1e-4,\n",
    "                         max_lr=1e-2,\n",
    "                         steps_per_epoch=np.ceil(X_train.shape[0]/batch_size),\n",
    "                         lr_decay=0.8,\n",
    "                         cycle_length=5,\n",
    "                         mult_factor=2)\n",
    "\n",
    "def DD_VGG():\n",
    "    model = Sequential()\n",
    "    # Use Batch Normalization for every conv and dense layers\n",
    "    model.add(Conv2D(64, kernel_size = (3,3), activation = 'relu', input_shape = (160, 120, 1)))\n",
    "    model.add(BatchNormalization())\n",
    "    model.add(Dropout(0.25))\n",
    "    model.add(Conv2D(64, kernel_size = (3,3), activation = 'relu'))\n",
    "    model.add(BatchNormalization())\n",
    "    model.add(MaxPooling2D(pool_size=(2,2)))\n",
    "    model.add(Conv2D(128, kernel_size = (3,3), activation = 'relu'))\n",
    "    model.add(BatchNormalization())\n",
    "    model.add(Dropout(0.25))\n",
    "    model.add(Conv2D(128, kernel_size = (3,3), activation = 'relu'))\n",
    "    model.add(BatchNormalization())\n",
    "    model.add(MaxPooling2D(pool_size=(2,2)))\n",
    "    model.add(Flatten())\n",
    "    model.add(Dense(64, activation = 'relu'))\n",
    "    model.add(BatchNormalization())\n",
    "    model.add(Dropout(0.33))\n",
    "    model.add(Dense(32, activation = 'relu'))\n",
    "    model.add(BatchNormalization())\n",
    "    model.add(Dense(10, activation = 'softmax')) # Sigmoid for log loss?\n",
    "    model.compile(loss= 'categorical_crossentropy' , optimizer= 'adam' , metrics=[ 'accuracy' ])\n",
    "    return model\n",
    "\n",
    "driver_model = DD_VGG()\n",
    "driver_hist = driver_model.fit(X_train, y_train, epochs=15, batch_size=batch_size, verbose=1,\n",
    "                               validation_split=0.2, callbacks=[schedule])\n",
    "\n",
    "def plot_model(model_hist, train_metric, val_metric):\n",
    "    plt.plot(model_hist[train_metric])\n",
    "    plt.plot(model_hist[val_metric])\n",
    "    plt.ylabel('Model ' + str(train_metric))\n",
    "    plt.xlabel('Epoch')\n",
    "    plt.legend(['Train', 'Val'], loc='upper left')\n",
    "    plt.show()\n",
    "\n",
    "plot_model(driver_hist.history, 'loss', 'val_loss')\n",
    "plot_model(driver_hist.history, 'acc', 'val_acc')"
   ]
  },
  {
   "cell_type": "code",
   "execution_count": 8,
   "metadata": {},
   "outputs": [],
   "source": [
    "# Save model when retraining\n",
    "driver_model.save('./driver_model.h5')\n",
    "#driver_model = load_model('./driver_model.h5')\n",
    "\n",
    "# Save model history\n",
    "with open('./trainHistoryDict', 'wb') as history:\n",
    "        pickle.dump(driver_hist.history, history)"
   ]
  },
  {
   "cell_type": "code",
   "execution_count": 9,
   "metadata": {},
   "outputs": [
    {
     "name": "stdout",
     "output_type": "stream",
     "text": [
      "[[497   0   0   0   0   0   0   0   0   0]\n",
      " [  0 439   0   0   0   0   0   0   0   0]\n",
      " [  1   0 463   1   0   0   1   0   0   0]\n",
      " [  0   0   1 442   1   0   0   0   0   0]\n",
      " [  1   0   0   2 497   0   2   0   1   0]\n",
      " [  1   0   0   0   0 483   0   0   0   0]\n",
      " [  0   0   0   0   0   0 464   0   0   0]\n",
      " [  0   1   0   1   0   0   0 393   1   1]\n",
      " [  3   0   0   0   0   0   0   1 379   1]\n",
      " [  0   0   0   0   0   1   0   0   2 404]]\n",
      "Test set accuracy is: 0.9946488294314382\n"
     ]
    }
   ],
   "source": [
    "# Get predictions and make them into vector of 0 to 9\n",
    "test_pred = driver_model.predict(X_test)\n",
    "test_pred2 = np.argmax(test_pred, axis = 1)\n",
    "\n",
    "# Change dummy code matrix back to vector of 0 to 9\n",
    "y_test2 = np.argmax(y_test, axis = 1)\n",
    "\n",
    "# Get performance\n",
    "print(confusion_matrix(y_test2, test_pred2))\n",
    "print(\"Test set accuracy is: %s\" % accuracy_score(y_test2, test_pred2))"
   ]
  }
 ],
 "metadata": {
  "kernelspec": {
   "display_name": "Python 3",
   "language": "python",
   "name": "python3"
  },
  "language_info": {
   "codemirror_mode": {
    "name": "ipython",
    "version": 3
   },
   "file_extension": ".py",
   "mimetype": "text/x-python",
   "name": "python",
   "nbconvert_exporter": "python",
   "pygments_lexer": "ipython3",
   "version": "3.7.3"
  }
 },
 "nbformat": 4,
 "nbformat_minor": 2
}
